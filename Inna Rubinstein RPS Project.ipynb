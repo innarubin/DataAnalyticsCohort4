{
 "cells": [
  {
   "cell_type": "code",
   "execution_count": 1,
   "id": "be1d866a",
   "metadata": {},
   "outputs": [
    {
     "name": "stdout",
     "output_type": "stream",
     "text": [
      "Player 1, please enter rock, paper, or scissors.rock\n",
      "Player 2, please enter rock, paper, or scissors.rock\n",
      "Its a tie!\n",
      "Would you like to play again?yes\n",
      "Player 1, please enter rock, paper, or scissors.rock\n",
      "Player 2, please enter rock, paper, or scissors.paper\n",
      "Player 2 wins!\n",
      "Would you like to play again?yes\n",
      "Player 1, please enter rock, paper, or scissors.scissors\n",
      "Player 2, please enter rock, paper, or scissors.paper\n",
      "Player 1 wins!\n",
      "Would you like to play again?no\n"
     ]
    }
   ],
   "source": [
    "answer = \"yes\"\n",
    "while answer != 'no':\n",
    "    player_1 = input (\"Player 1, please enter rock, paper, or scissors.\")\n",
    "    player_2 = input (\"Player 2, please enter rock, paper, or scissors.\")\n",
    "    actions = [\"rock\", \"paper\", \"scissors\"]\n",
    "    if player_1 == player_2:\n",
    "         print (\"Its a tie!\")\n",
    "    elif player_1 == \"rock\" and player_2 == \"scissors\":\n",
    "         print (\"Player 1 wins!\")\n",
    "    elif player_1 == \"rock\" and player_2 == \"paper\":\n",
    "         print (\"Player 2 wins!\")\n",
    "    elif player_1 == \"scissors\" and player_2 == \"rock\":\n",
    "         print (\"Player 2 wins!\")\n",
    "    elif player_1 == \"scissors\" and player_2 == \"paper\":\n",
    "         print (\"Player 1 wins!\")\n",
    "    elif player_1 == \"paper\" and player_2 == \"rock\":\n",
    "         print (\"Player 1 wins!\")\n",
    "    elif player_1 == \"paper\" and player_2 == \"scissors\":\n",
    "         print (\"Player 2 wins!\")\n",
    "    answer = input (\"Would you like to play again?\")"
   ]
  },
  {
   "cell_type": "code",
   "execution_count": null,
   "id": "307e5aea",
   "metadata": {},
   "outputs": [],
   "source": []
  }
 ],
 "metadata": {
  "kernelspec": {
   "display_name": "Python 3 (ipykernel)",
   "language": "python",
   "name": "python3"
  },
  "language_info": {
   "codemirror_mode": {
    "name": "ipython",
    "version": 3
   },
   "file_extension": ".py",
   "mimetype": "text/x-python",
   "name": "python",
   "nbconvert_exporter": "python",
   "pygments_lexer": "ipython3",
   "version": "3.11.5"
  }
 },
 "nbformat": 4,
 "nbformat_minor": 5
}
